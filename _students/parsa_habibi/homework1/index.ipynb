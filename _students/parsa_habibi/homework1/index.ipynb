{
 "cells": [
  {
   "cell_type": "markdown",
   "metadata": {
    "colab_type": "text",
    "id": "B42YV4QyuRKZ"
   },
   "source": [
    "# Instructions:\n",
    "## Please save a copy of this notebook to your google drive and answer the questions below.\n",
    "## Once completed please submit your notebook to the following [GitHub Repo](https://github.com/7-gate-academy-ml-program/Synopsis)"
   ]
  },
  {
   "cell_type": "markdown",
   "metadata": {
    "colab_type": "text",
    "id": "d8mmOkNLyoWt"
   },
   "source": [
    "### Name:  Parsa Habibi"
   ]
  },
  {
   "cell_type": "markdown",
   "metadata": {
    "colab_type": "text",
    "id": "SdkchPgStYin"
   },
   "source": [
    "# 1.)  What is the difference between Classification and Regression?"
   ]
  },
  {
   "cell_type": "markdown",
   "metadata": {
    "colab_type": "text",
    "id": "0aKWEz_atmEp"
   },
   "source": [
    "Classification :  Is a form supervised learning where we take a given input and map on a discrete value, for example , given a set of pictures of people , we would like to determine if they are male or female. \n",
    "\n",
    "Regression: Regression is also a kind of supervised learning however in a regression model, given some points on a graph we would like to determine if given another point , where that point may be on our graph. in comparison to Classification, in regression model we are mapping a given input to a number rather than a discrete value."
   ]
  },
  {
   "cell_type": "markdown",
   "metadata": {
    "colab_type": "text",
    "id": "Ma7t_7yBtmud"
   },
   "source": [
    "# 2.) What is the Curse of Dimensionality?"
   ]
  },
  {
   "cell_type": "markdown",
   "metadata": {
    "colab_type": "text",
    "id": "9C3_8rvyyDYA"
   },
   "source": [
    "Curse of Dimensionality expresses the fact that as your numner of features( dimensions) grows , the amount of data needed to generalize accuratly grows EXPONENTIALLY. "
   ]
  },
  {
   "cell_type": "markdown",
   "metadata": {
    "colab_type": "text",
    "id": "w_rFydWVyDl3"
   },
   "source": [
    "# 3.) What is Cross Validation?"
   ]
  },
  {
   "cell_type": "markdown",
   "metadata": {
    "colab_type": "text",
    "id": "X-iA3jnCtxqP"
   },
   "source": [
    "cross validation is a method that allows us to maximize our test data and training data so that we ensure we are training the model as accurately as possible. A method that we could do this with is called a cross validation with k-folds where we partition our data into k bins and we take away 1 bin as a testing bin , and we run the remaining k-1 bins k times in our training set, which each iteration , we choose another bin as our testing set. once we are done we take the avarage result."
   ]
  },
  {
   "cell_type": "markdown",
   "metadata": {
    "colab_type": "text",
    "id": "ieaSLJE2tyVm"
   },
   "source": [
    "# 4.) On a high level how do Decision  Trees work?"
   ]
  },
  {
   "cell_type": "markdown",
   "metadata": {
    "colab_type": "text",
    "id": "sD6nBEWCt8ud"
   },
   "source": [
    "based on certain atributes of the data.\n",
    "      1. we split our data into subsets.\n",
    "      2. based on those atributes of our subsets if they are pure , meaning we have reached the our desired result( yes or no)\n",
    "          then we stop.\n",
    "      3. else we keep going to to see if we can divide our data into more partiotions \n",
    "      \n",
    "in a more general sence , a decision tree is used inorder to predict  and outcome based on an input and a set of data with multiple attributes. \n",
    "\n",
    "for example if I have a lot of data based on the weather with multiple attributes such as , valume of clouds, tempreture , etc.. , given an input(lets say the next days data with the attribute Weather is missing)  I would like to know if it will rain tommorow . Thus if I were to draw a decision tree based on the attributes of my data set and try to divide them in a way that I could find out what days were more likely to rain , I could give an estimation on weather tommorow will rain or not, \n",
    "\n",
    "Although this method is only as good as the data gets and does not provide a very accurate results but it is very usefull. "
   ]
  },
  {
   "cell_type": "markdown",
   "metadata": {
    "colab_type": "text",
    "id": "6akxVwD_t82G"
   },
   "source": [
    "# 5.) In regards to SVMs what is the Kernel Trick?"
   ]
  },
  {
   "cell_type": "markdown",
   "metadata": {
    "colab_type": "text",
    "id": "eDGR-lhHuKNq"
   },
   "source": [
    "SVMS kernel trick is used to when we would like to draw a line seperating two data sets from one another on a graph. \n",
    "\n",
    "lets asume that we have 2 data sets x , y the graph for x,y might look something like this, \n",
    "\n",
    "      |  x\n",
    "      |    y\n",
    "      |   y \n",
    "      |    x\n",
    "      |____________\n",
    "        \n",
    "no clearly we cannot a draw a straight line to seperate these two points from one another. \n",
    "what the kernel does is that , it creates a new dimension to our graph so that would could separate the data sets, \n",
    "\n",
    "so now our graph will be in the following form  ( x , y , f(x,y) ) \n",
    "\n",
    "thus we moved from a 2d plane into a 3d plan(in this case)  \n",
    "\n",
    "\n",
    "      |\n",
    "      |  x \n",
    "      |    x\n",
    "      |_ _ _ _ _ \n",
    "      /\n",
    "     /  y\n",
    "    / y\n",
    "  \n",
    "  \n",
    "  as you can see now we have respesented the function f(x,y) as a new parameter for our graph thus we seperated our data sets by adding another plane. "
   ]
  }
 ],
 "metadata": {
  "colab": {
   "name": "homework1.ipynb",
   "provenance": [],
   "version": "0.3.2"
  },
  "kernelspec": {
   "display_name": "Python 3",
   "language": "python",
   "name": "python3"
  },
  "language_info": {
   "codemirror_mode": {
    "name": "ipython",
    "version": 3
   },
   "file_extension": ".py",
   "mimetype": "text/x-python",
   "name": "python",
   "nbconvert_exporter": "python",
   "pygments_lexer": "ipython3",
   "version": "3.7.4"
  }
 },
 "nbformat": 4,
 "nbformat_minor": 1
}
