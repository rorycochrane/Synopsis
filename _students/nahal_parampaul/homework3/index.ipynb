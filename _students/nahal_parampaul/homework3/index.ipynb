{
 "cells": [
  {
   "cell_type": "markdown",
   "metadata": {
    "slideshow": {
     "slide_type": "slide"
    }
   },
   "source": [
    "# Criminal Homicides in 50 American Cities"
   ]
  },
  {
   "cell_type": "markdown",
   "metadata": {
    "slideshow": {
     "slide_type": "subslide"
    }
   },
   "source": [
    "![handcuffs](handcuffs.jpg)"
   ]
  },
  {
   "cell_type": "markdown",
   "metadata": {
    "slideshow": {
     "slide_type": "slide"
    }
   },
   "source": [
    "## Background about Data\n",
    "- This dataset contains 52, 179 homocides across 50 American Cities in a 5.4 MB CSV file. Records range from 2 years to 10 years worth of data for police departments\n",
    "- Victim information: name, race, age, sex\n",
    "- Homocide information: reported date, city, state, lat / lon, disposition\n",
    " \n",
    "### How it was collected\n",
    "- Reporters for The Washington Post reached out to departments and received the data in many different formats. \n",
    "- It was cleaned and cross referenced with FBI data, public records, death certificates to ensure it was as accurate as possible\n",
    "- Each homicide was matched to a location\n",
    "- The Washington Post followed the definitions in FBI’s Uniform Crime Reporting Program for Homocides:\n",
    "    - Include murder and non-negligent manslaughter\n",
    "    - Exclude suicides, accidents, justifiable homicides and deaths caused by negligence."
   ]
  },
  {
   "cell_type": "code",
   "execution_count": 1,
   "metadata": {
    "slideshow": {
     "slide_type": "slide"
    }
   },
   "outputs": [],
   "source": [
    "%matplotlib inline\n",
    "import pandas as pd\n",
    "import numpy as np\n",
    "import matplotlib.pyplot as plt\n",
    "\n",
    "import gmplot"
   ]
  },
  {
   "cell_type": "code",
   "execution_count": 2,
   "metadata": {
    "slideshow": {
     "slide_type": "-"
    }
   },
   "outputs": [],
   "source": [
    "dataset_url = \"https://raw.githubusercontent.com/washingtonpost/data-homicides/master/homicide-data.csv\"\n",
    "\n",
    "df_murder = pd.read_csv(dataset_url, encoding = \"ISO-8859-1\")"
   ]
  },
  {
   "cell_type": "code",
   "execution_count": 3,
   "metadata": {
    "slideshow": {
     "slide_type": "slide"
    }
   },
   "outputs": [
    {
     "data": {
      "text/html": [
       "<div>\n",
       "<style scoped>\n",
       "    .dataframe tbody tr th:only-of-type {\n",
       "        vertical-align: middle;\n",
       "    }\n",
       "\n",
       "    .dataframe tbody tr th {\n",
       "        vertical-align: top;\n",
       "    }\n",
       "\n",
       "    .dataframe thead th {\n",
       "        text-align: right;\n",
       "    }\n",
       "</style>\n",
       "<table border=\"1\" class=\"dataframe\">\n",
       "  <thead>\n",
       "    <tr style=\"text-align: right;\">\n",
       "      <th></th>\n",
       "      <th>uid</th>\n",
       "      <th>reported_date</th>\n",
       "      <th>victim_last</th>\n",
       "      <th>victim_first</th>\n",
       "      <th>victim_race</th>\n",
       "      <th>victim_age</th>\n",
       "      <th>victim_sex</th>\n",
       "      <th>city</th>\n",
       "      <th>state</th>\n",
       "      <th>lat</th>\n",
       "      <th>lon</th>\n",
       "      <th>disposition</th>\n",
       "    </tr>\n",
       "  </thead>\n",
       "  <tbody>\n",
       "    <tr>\n",
       "      <th>0</th>\n",
       "      <td>Alb-000001</td>\n",
       "      <td>20100504</td>\n",
       "      <td>GARCIA</td>\n",
       "      <td>JUAN</td>\n",
       "      <td>Hispanic</td>\n",
       "      <td>78</td>\n",
       "      <td>Male</td>\n",
       "      <td>Albuquerque</td>\n",
       "      <td>NM</td>\n",
       "      <td>35.095788</td>\n",
       "      <td>-106.538555</td>\n",
       "      <td>Closed without arrest</td>\n",
       "    </tr>\n",
       "    <tr>\n",
       "      <th>1</th>\n",
       "      <td>Alb-000002</td>\n",
       "      <td>20100216</td>\n",
       "      <td>MONTOYA</td>\n",
       "      <td>CAMERON</td>\n",
       "      <td>Hispanic</td>\n",
       "      <td>17</td>\n",
       "      <td>Male</td>\n",
       "      <td>Albuquerque</td>\n",
       "      <td>NM</td>\n",
       "      <td>35.056810</td>\n",
       "      <td>-106.715321</td>\n",
       "      <td>Closed by arrest</td>\n",
       "    </tr>\n",
       "    <tr>\n",
       "      <th>2</th>\n",
       "      <td>Alb-000003</td>\n",
       "      <td>20100601</td>\n",
       "      <td>SATTERFIELD</td>\n",
       "      <td>VIVIANA</td>\n",
       "      <td>White</td>\n",
       "      <td>15</td>\n",
       "      <td>Female</td>\n",
       "      <td>Albuquerque</td>\n",
       "      <td>NM</td>\n",
       "      <td>35.086092</td>\n",
       "      <td>-106.695568</td>\n",
       "      <td>Closed without arrest</td>\n",
       "    </tr>\n",
       "    <tr>\n",
       "      <th>3</th>\n",
       "      <td>Alb-000004</td>\n",
       "      <td>20100101</td>\n",
       "      <td>MENDIOLA</td>\n",
       "      <td>CARLOS</td>\n",
       "      <td>Hispanic</td>\n",
       "      <td>32</td>\n",
       "      <td>Male</td>\n",
       "      <td>Albuquerque</td>\n",
       "      <td>NM</td>\n",
       "      <td>35.078493</td>\n",
       "      <td>-106.556094</td>\n",
       "      <td>Closed by arrest</td>\n",
       "    </tr>\n",
       "    <tr>\n",
       "      <th>4</th>\n",
       "      <td>Alb-000005</td>\n",
       "      <td>20100102</td>\n",
       "      <td>MULA</td>\n",
       "      <td>VIVIAN</td>\n",
       "      <td>White</td>\n",
       "      <td>72</td>\n",
       "      <td>Female</td>\n",
       "      <td>Albuquerque</td>\n",
       "      <td>NM</td>\n",
       "      <td>35.130357</td>\n",
       "      <td>-106.580986</td>\n",
       "      <td>Closed without arrest</td>\n",
       "    </tr>\n",
       "    <tr>\n",
       "      <th>5</th>\n",
       "      <td>Alb-000006</td>\n",
       "      <td>20100126</td>\n",
       "      <td>BOOK</td>\n",
       "      <td>GERALDINE</td>\n",
       "      <td>White</td>\n",
       "      <td>91</td>\n",
       "      <td>Female</td>\n",
       "      <td>Albuquerque</td>\n",
       "      <td>NM</td>\n",
       "      <td>35.151110</td>\n",
       "      <td>-106.537797</td>\n",
       "      <td>Open/No arrest</td>\n",
       "    </tr>\n",
       "    <tr>\n",
       "      <th>6</th>\n",
       "      <td>Alb-000007</td>\n",
       "      <td>20100127</td>\n",
       "      <td>MALDONADO</td>\n",
       "      <td>DAVID</td>\n",
       "      <td>Hispanic</td>\n",
       "      <td>52</td>\n",
       "      <td>Male</td>\n",
       "      <td>Albuquerque</td>\n",
       "      <td>NM</td>\n",
       "      <td>35.111785</td>\n",
       "      <td>-106.712614</td>\n",
       "      <td>Closed by arrest</td>\n",
       "    </tr>\n",
       "    <tr>\n",
       "      <th>7</th>\n",
       "      <td>Alb-000008</td>\n",
       "      <td>20100127</td>\n",
       "      <td>MALDONADO</td>\n",
       "      <td>CONNIE</td>\n",
       "      <td>Hispanic</td>\n",
       "      <td>52</td>\n",
       "      <td>Female</td>\n",
       "      <td>Albuquerque</td>\n",
       "      <td>NM</td>\n",
       "      <td>35.111785</td>\n",
       "      <td>-106.712614</td>\n",
       "      <td>Closed by arrest</td>\n",
       "    </tr>\n",
       "    <tr>\n",
       "      <th>8</th>\n",
       "      <td>Alb-000009</td>\n",
       "      <td>20100130</td>\n",
       "      <td>MARTIN-LEYVA</td>\n",
       "      <td>GUSTAVO</td>\n",
       "      <td>White</td>\n",
       "      <td>56</td>\n",
       "      <td>Male</td>\n",
       "      <td>Albuquerque</td>\n",
       "      <td>NM</td>\n",
       "      <td>35.075380</td>\n",
       "      <td>-106.553458</td>\n",
       "      <td>Open/No arrest</td>\n",
       "    </tr>\n",
       "    <tr>\n",
       "      <th>9</th>\n",
       "      <td>Alb-000010</td>\n",
       "      <td>20100210</td>\n",
       "      <td>HERRERA</td>\n",
       "      <td>ISRAEL</td>\n",
       "      <td>Hispanic</td>\n",
       "      <td>43</td>\n",
       "      <td>Male</td>\n",
       "      <td>Albuquerque</td>\n",
       "      <td>NM</td>\n",
       "      <td>35.065930</td>\n",
       "      <td>-106.572288</td>\n",
       "      <td>Open/No arrest</td>\n",
       "    </tr>\n",
       "  </tbody>\n",
       "</table>\n",
       "</div>"
      ],
      "text/plain": [
       "          uid  reported_date   victim_last victim_first victim_race  \\\n",
       "0  Alb-000001       20100504        GARCIA         JUAN    Hispanic   \n",
       "1  Alb-000002       20100216       MONTOYA      CAMERON    Hispanic   \n",
       "2  Alb-000003       20100601   SATTERFIELD      VIVIANA       White   \n",
       "3  Alb-000004       20100101      MENDIOLA       CARLOS    Hispanic   \n",
       "4  Alb-000005       20100102          MULA       VIVIAN       White   \n",
       "5  Alb-000006       20100126          BOOK    GERALDINE       White   \n",
       "6  Alb-000007       20100127     MALDONADO        DAVID    Hispanic   \n",
       "7  Alb-000008       20100127     MALDONADO       CONNIE    Hispanic   \n",
       "8  Alb-000009       20100130  MARTIN-LEYVA      GUSTAVO       White   \n",
       "9  Alb-000010       20100210       HERRERA       ISRAEL    Hispanic   \n",
       "\n",
       "  victim_age victim_sex         city state        lat         lon  \\\n",
       "0         78       Male  Albuquerque    NM  35.095788 -106.538555   \n",
       "1         17       Male  Albuquerque    NM  35.056810 -106.715321   \n",
       "2         15     Female  Albuquerque    NM  35.086092 -106.695568   \n",
       "3         32       Male  Albuquerque    NM  35.078493 -106.556094   \n",
       "4         72     Female  Albuquerque    NM  35.130357 -106.580986   \n",
       "5         91     Female  Albuquerque    NM  35.151110 -106.537797   \n",
       "6         52       Male  Albuquerque    NM  35.111785 -106.712614   \n",
       "7         52     Female  Albuquerque    NM  35.111785 -106.712614   \n",
       "8         56       Male  Albuquerque    NM  35.075380 -106.553458   \n",
       "9         43       Male  Albuquerque    NM  35.065930 -106.572288   \n",
       "\n",
       "             disposition  \n",
       "0  Closed without arrest  \n",
       "1       Closed by arrest  \n",
       "2  Closed without arrest  \n",
       "3       Closed by arrest  \n",
       "4  Closed without arrest  \n",
       "5         Open/No arrest  \n",
       "6       Closed by arrest  \n",
       "7       Closed by arrest  \n",
       "8         Open/No arrest  \n",
       "9         Open/No arrest  "
      ]
     },
     "execution_count": 3,
     "metadata": {},
     "output_type": "execute_result"
    }
   ],
   "source": [
    "# Ensure that we have the correct data\n",
    "df_murder.head(10)"
   ]
  },
  {
   "cell_type": "markdown",
   "metadata": {
    "slideshow": {
     "slide_type": "slide"
    }
   },
   "source": [
    "# First Look\n",
    "\n",
    "- We can notice that some values might need to have their datatype altered (age), and others can be one hot encoded (sex)\n",
    "- We can change the reported_date datatype to an actual datetime object\n",
    "- There are no duplicates"
   ]
  },
  {
   "cell_type": "code",
   "execution_count": 4,
   "metadata": {
    "slideshow": {
     "slide_type": "-"
    }
   },
   "outputs": [
    {
     "name": "stdout",
     "output_type": "stream",
     "text": [
      "<class 'pandas.core.frame.DataFrame'>\n",
      "RangeIndex: 52179 entries, 0 to 52178\n",
      "Data columns (total 12 columns):\n",
      "uid              52179 non-null object\n",
      "reported_date    52179 non-null int64\n",
      "victim_last      52178 non-null object\n",
      "victim_first     52179 non-null object\n",
      "victim_race      52179 non-null object\n",
      "victim_age       52179 non-null object\n",
      "victim_sex       52179 non-null object\n",
      "city             52179 non-null object\n",
      "state            52179 non-null object\n",
      "lat              52119 non-null float64\n",
      "lon              52119 non-null float64\n",
      "disposition      52179 non-null object\n",
      "dtypes: float64(2), int64(1), object(9)\n",
      "memory usage: 29.8 MB\n"
     ]
    }
   ],
   "source": [
    "# Looking at the datatypes and memory usage\n",
    "df_murder.info(memory_usage='deep')"
   ]
  },
  {
   "cell_type": "code",
   "execution_count": 5,
   "metadata": {
    "slideshow": {
     "slide_type": "-"
    }
   },
   "outputs": [
    {
     "data": {
      "text/plain": [
       "0"
      ]
     },
     "execution_count": 5,
     "metadata": {},
     "output_type": "execute_result"
    }
   ],
   "source": [
    "# There are no duplicates in this data set\n",
    "sum(df_murder.duplicated())"
   ]
  },
  {
   "cell_type": "markdown",
   "metadata": {
    "slideshow": {
     "slide_type": "slide"
    }
   },
   "source": [
    "# Some Fun\n",
    "\n",
    "- This fun exercise actually proved to be useful. It shows that the city label cannot always be trust because we can see two murders mislabeled for San Francisco"
   ]
  },
  {
   "cell_type": "code",
   "execution_count": 20,
   "metadata": {
    "slideshow": {
     "slide_type": "-"
    }
   },
   "outputs": [],
   "source": [
    "# Lets only look at California\n",
    "sf_murder = df_murder[(df_murder['state']==\"CA\") & (df_murder['city']==\"San Francisco\")]\n",
    "\n",
    "# Initial focus (Tenderloin District, SF)\n",
    "focus_lat = 37.7833302\n",
    "focus_lon = -122.416665\n",
    "gmap = gmplot.GoogleMapPlotter(focus_lat, focus_lon, 12)\n",
    "\n",
    "# Overlay our datapoints onto the map\n",
    "gmap.heatmap(sf_murder['lat'], sf_murder['lon'])\n",
    "\n",
    "# Generate the heatmap into an HTML file\n",
    "gmap.draw(\"my_heatmap.html\")"
   ]
  },
  {
   "cell_type": "markdown",
   "metadata": {},
   "source": [
    "### Viewing the resulting file: "
   ]
  },
  {
   "cell_type": "code",
   "execution_count": 21,
   "metadata": {},
   "outputs": [
    {
     "data": {
      "text/html": [
       "\n",
       "        <iframe\n",
       "            width=\"700\"\n",
       "            height=\"600\"\n",
       "            src=\"./my_heatmap.html\"\n",
       "            frameborder=\"0\"\n",
       "            allowfullscreen\n",
       "        ></iframe>\n",
       "        "
      ],
      "text/plain": [
       "<IPython.lib.display.IFrame at 0x7fbe344923c8>"
      ]
     },
     "execution_count": 21,
     "metadata": {},
     "output_type": "execute_result"
    }
   ],
   "source": [
    "from IPython.display import IFrame\n",
    "IFrame(src='./my_heatmap.html', width=700, height=600)"
   ]
  },
  {
   "cell_type": "markdown",
   "metadata": {
    "slideshow": {
     "slide_type": "slide"
    }
   },
   "source": [
    "# Missing Values"
   ]
  },
  {
   "cell_type": "code",
   "execution_count": 22,
   "metadata": {},
   "outputs": [
    {
     "name": "stdout",
     "output_type": "stream",
     "text": [
      "uid                  has     0 missing values.\n",
      "reported_date        has     0 missing values.\n",
      "victim_last          has     1 missing values.\n",
      "victim_first         has     0 missing values.\n",
      "victim_race          has     0 missing values.\n",
      "victim_age           has     0 missing values.\n",
      "victim_sex           has     0 missing values.\n",
      "city                 has     0 missing values.\n",
      "state                has     0 missing values.\n",
      "lat                  has    60 missing values.\n",
      "lon                  has    60 missing values.\n",
      "disposition          has     0 missing values.\n"
     ]
    }
   ],
   "source": [
    "for col in df_murder.columns:\n",
    "    print(f\"{col:20} has {df_murder[col].isnull().sum():5} missing values.\")"
   ]
  },
  {
   "cell_type": "markdown",
   "metadata": {
    "slideshow": {
     "slide_type": "slide"
    }
   },
   "source": [
    "### Geography\n",
    "\n",
    "After seeing that there are 60 latitude values and 60 longitude values missing, we confirm that they are missing as pairs and not indivudually: "
   ]
  },
  {
   "cell_type": "code",
   "execution_count": 23,
   "metadata": {},
   "outputs": [
    {
     "data": {
      "text/plain": [
       "60"
      ]
     },
     "execution_count": 23,
     "metadata": {},
     "output_type": "execute_result"
    }
   ],
   "source": [
    "# Confirm that 60 lat & lon values are missing TOGETHER\n",
    "missing_lats = df_murder['lat'].isnull()\n",
    "len(df_murder['lon'][missing_lats])"
   ]
  },
  {
   "cell_type": "markdown",
   "metadata": {
    "slideshow": {
     "slide_type": "slide"
    }
   },
   "source": [
    "Are they missing from the same city or equally dispersed? Using lat as a key, we can see that the missing geographical coordinates are not equally distributed."
   ]
  },
  {
   "cell_type": "code",
   "execution_count": 25,
   "metadata": {},
   "outputs": [
    {
     "data": {
      "image/png": "[encoded data removed]",
      "text/plain": [
       "<Figure size 1080x576 with 1 Axes>"
      ]
     },
     "metadata": {
      "needs_background": "light"
     },
     "output_type": "display_data"
    }
   ],
   "source": [
    "missing_value_counts = df_murder[missing_lats].groupby('city')[['uid']].nunique()\n",
    "missing_value_counts.plot.bar(figsize=(15,8))\n",
    "plt.xticks(rotation=45);"
   ]
  },
  {
   "cell_type": "markdown",
   "metadata": {
    "slideshow": {
     "slide_type": "slide"
    }
   },
   "source": [
    "Because there are only a handful of missing values, they should not pose a problem if deleted from the dataset."
   ]
  },
  {
   "cell_type": "code",
   "execution_count": 26,
   "metadata": {
    "slideshow": {
     "slide_type": "slide"
    }
   },
   "outputs": [
    {
     "name": "stdout",
     "output_type": "stream",
     "text": [
      "0.79 % Albuquerque\n",
      "0.12 % Birmingham\n",
      "0.33 % Boston\n",
      "0.19 % Buffalo\n",
      "0.46 % Columbus\n",
      "0.82 % Fresno\n",
      "0.31 % Houston\n",
      "0.72 % Las Vegas\n",
      "0.17 % Louisville\n",
      "1.3 % Nashville\n",
      "0.32 % New York\n",
      "0.03 % Philadelphia\n",
      "0.53 % Sacramento\n",
      "0.12 % San Antonio\n",
      "0.43 % San Diego\n",
      "0.3 % St. Louis\n",
      "0.23 % Stockton\n"
     ]
    }
   ],
   "source": [
    "for ind, row in missing_value_counts.iterrows():\n",
    "    print(round((row[0]/len(df_murder[df_murder['city']==ind]))*100,2),\"%\", ind)"
   ]
  },
  {
   "cell_type": "code",
   "execution_count": 27,
   "metadata": {},
   "outputs": [],
   "source": [
    "# Deleting missing rows\n",
    "df_murder = df_murder[~missing_lats]"
   ]
  },
  {
   "cell_type": "markdown",
   "metadata": {
    "slideshow": {
     "slide_type": "slide"
    }
   },
   "source": [
    "### Names\n",
    "Losing 1 row won't make a difference either, so we will remove the no named entry."
   ]
  },
  {
   "cell_type": "code",
   "execution_count": 28,
   "metadata": {},
   "outputs": [],
   "source": [
    "df_murder = df_murder[~df_murder['victim_last'].isnull()]"
   ]
  },
  {
   "cell_type": "markdown",
   "metadata": {
    "slideshow": {
     "slide_type": "slide"
    }
   },
   "source": [
    "# Column by Column\n",
    "## reported_date\n",
    "We will convert reported_date ints into datetime objects for easier readability and better compatibility with python tools for the time being"
   ]
  },
  {
   "cell_type": "code",
   "execution_count": 29,
   "metadata": {},
   "outputs": [],
   "source": [
    "def get_datetime(int_date):\n",
    "    int_date = str(int_date)\n",
    "    day = int_date[-2:]\n",
    "    month = int_date[-4:-2]\n",
    "    year = int_date[:4]\n",
    "    return f\"{year}-{month}-{day}\"\n",
    "\n",
    "df_murder['reported_date'] = pd.to_datetime(df_murder['reported_date'].map(get_datetime))"
   ]
  },
  {
   "cell_type": "markdown",
   "metadata": {
    "slideshow": {
     "slide_type": "slide"
    }
   },
   "source": [
    "- We can split time up into 3 different features (year, month date). But do we need all 3 features? \n",
    "- First, lets try to look at what is happening over time. As you can see, homocides are periodic and appear to have increased over the years. Therefore, it might not be wise to discard the year column. \n",
    "- Other questions to consider when encoding: When is time cyclical and not? Is Dec 31st very close to January 1st or very far?"
   ]
  },
  {
   "cell_type": "code",
   "execution_count": 30,
   "metadata": {
    "slideshow": {
     "slide_type": "slide"
    }
   },
   "outputs": [
    {
     "data": {
      "image/png": "[encoded data removed]",
      "text/plain": [
       "<Figure size 1080x576 with 1 Axes>"
      ]
     },
     "metadata": {
      "needs_background": "light"
     },
     "output_type": "display_data"
    }
   ],
   "source": [
    "df_murder.groupby('reported_date').count()['uid'].rolling(100).mean().plot(figsize=(15,8));"
   ]
  },
  {
   "cell_type": "markdown",
   "metadata": {
    "slideshow": {
     "slide_type": "slide"
    }
   },
   "source": [
    "## victim_last & victim_first"
   ]
  },
  {
   "cell_type": "code",
   "execution_count": 31,
   "metadata": {},
   "outputs": [
    {
     "data": {
      "text/plain": [
       "victim_last\n",
       "Unknown     5756\n",
       "WILLIAMS     814\n",
       "JOHNSON      808\n",
       "SMITH        645\n",
       "JONES        616\n",
       "BROWN        589\n",
       "JACKSON      445\n",
       "DAVIS        422\n",
       "THOMAS       350\n",
       "HARRIS       297\n",
       "Name: uid, dtype: int64"
      ]
     },
     "execution_count": 31,
     "metadata": {},
     "output_type": "execute_result"
    }
   ],
   "source": [
    "name_in_murder = df_murder.groupby('victim_last').count()['uid']\n",
    "name_in_murder.sort_values(ascending=False).head(10)"
   ]
  },
  {
   "cell_type": "markdown",
   "metadata": {
    "slideshow": {
     "slide_type": "slide"
    }
   },
   "source": [
    "- The first thing that stands out is that over 10% of the last names are unknown! What are we going to do? \n",
    "- 814 people with the last name 'Williams' have been killed over the last decade! What does that mean? \n",
    "- Answer: It means nothing and we will get rid of it. \n",
    "- Both this column and victim_first are just going to be noise to the model.\n",
    "\n",
    "![Common Last Names](common_last_names.png)"
   ]
  },
  {
   "cell_type": "code",
   "execution_count": 32,
   "metadata": {},
   "outputs": [],
   "source": [
    "del df_murder['victim_last']\n",
    "del df_murder['victim_first']"
   ]
  },
  {
   "cell_type": "markdown",
   "metadata": {
    "slideshow": {
     "slide_type": "slide"
    }
   },
   "source": [
    "# victim_age\n",
    "- First, we will convert age from an object data type to int\n",
    "- Upon trying to do so, it doesn't work! There was an 'unknown' hidden in there"
   ]
  },
  {
   "cell_type": "code",
   "execution_count": 33,
   "metadata": {
    "slideshow": {
     "slide_type": "skip"
    }
   },
   "outputs": [
    {
     "ename": "ValueError",
     "evalue": "invalid literal for int() with base 10: 'Unknown'",
     "output_type": "error",
     "traceback": [
      "\u001b[0;31m---------------------------------------------------------------------------\u001b[0m",
      "\u001b[0;31mValueError\u001b[0m                                Traceback (most recent call last)",
      "\u001b[0;32m<ipython-input-33-7e0afa91c78e>\u001b[0m in \u001b[0;36m<module>\u001b[0;34m\u001b[0m\n\u001b[0;32m----> 1\u001b[0;31m \u001b[0mdf_murder\u001b[0m\u001b[0;34m[\u001b[0m\u001b[0;34m'victim_age'\u001b[0m\u001b[0;34m]\u001b[0m\u001b[0;34m.\u001b[0m\u001b[0mastype\u001b[0m\u001b[0;34m(\u001b[0m\u001b[0;34m'int64'\u001b[0m\u001b[0;34m)\u001b[0m\u001b[0;34m\u001b[0m\u001b[0;34m\u001b[0m\u001b[0m\n\u001b[0m",
      "\u001b[0;32m~/anaconda3/envs/7gate/lib/python3.7/site-packages/pandas/core/generic.py\u001b[0m in \u001b[0;36mastype\u001b[0;34m(self, dtype, copy, errors, **kwargs)\u001b[0m\n\u001b[1;32m   5689\u001b[0m             \u001b[0;31m# else, only a single dtype is given\u001b[0m\u001b[0;34m\u001b[0m\u001b[0;34m\u001b[0m\u001b[0;34m\u001b[0m\u001b[0m\n\u001b[1;32m   5690\u001b[0m             new_data = self._data.astype(dtype=dtype, copy=copy, errors=errors,\n\u001b[0;32m-> 5691\u001b[0;31m                                          **kwargs)\n\u001b[0m\u001b[1;32m   5692\u001b[0m             \u001b[0;32mreturn\u001b[0m \u001b[0mself\u001b[0m\u001b[0;34m.\u001b[0m\u001b[0m_constructor\u001b[0m\u001b[0;34m(\u001b[0m\u001b[0mnew_data\u001b[0m\u001b[0;34m)\u001b[0m\u001b[0;34m.\u001b[0m\u001b[0m__finalize__\u001b[0m\u001b[0;34m(\u001b[0m\u001b[0mself\u001b[0m\u001b[0;34m)\u001b[0m\u001b[0;34m\u001b[0m\u001b[0;34m\u001b[0m\u001b[0m\n\u001b[1;32m   5693\u001b[0m \u001b[0;34m\u001b[0m\u001b[0m\n",
      "\u001b[0;32m~/anaconda3/envs/7gate/lib/python3.7/site-packages/pandas/core/internals/managers.py\u001b[0m in \u001b[0;36mastype\u001b[0;34m(self, dtype, **kwargs)\u001b[0m\n\u001b[1;32m    529\u001b[0m \u001b[0;34m\u001b[0m\u001b[0m\n\u001b[1;32m    530\u001b[0m     \u001b[0;32mdef\u001b[0m \u001b[0mastype\u001b[0m\u001b[0;34m(\u001b[0m\u001b[0mself\u001b[0m\u001b[0;34m,\u001b[0m \u001b[0mdtype\u001b[0m\u001b[0;34m,\u001b[0m \u001b[0;34m**\u001b[0m\u001b[0mkwargs\u001b[0m\u001b[0;34m)\u001b[0m\u001b[0;34m:\u001b[0m\u001b[0;34m\u001b[0m\u001b[0;34m\u001b[0m\u001b[0m\n\u001b[0;32m--> 531\u001b[0;31m         \u001b[0;32mreturn\u001b[0m \u001b[0mself\u001b[0m\u001b[0;34m.\u001b[0m\u001b[0mapply\u001b[0m\u001b[0;34m(\u001b[0m\u001b[0;34m'astype'\u001b[0m\u001b[0;34m,\u001b[0m \u001b[0mdtype\u001b[0m\u001b[0;34m=\u001b[0m\u001b[0mdtype\u001b[0m\u001b[0;34m,\u001b[0m \u001b[0;34m**\u001b[0m\u001b[0mkwargs\u001b[0m\u001b[0;34m)\u001b[0m\u001b[0;34m\u001b[0m\u001b[0;34m\u001b[0m\u001b[0m\n\u001b[0m\u001b[1;32m    532\u001b[0m \u001b[0;34m\u001b[0m\u001b[0m\n\u001b[1;32m    533\u001b[0m     \u001b[0;32mdef\u001b[0m \u001b[0mconvert\u001b[0m\u001b[0;34m(\u001b[0m\u001b[0mself\u001b[0m\u001b[0;34m,\u001b[0m \u001b[0;34m**\u001b[0m\u001b[0mkwargs\u001b[0m\u001b[0;34m)\u001b[0m\u001b[0;34m:\u001b[0m\u001b[0;34m\u001b[0m\u001b[0;34m\u001b[0m\u001b[0m\n",
      "\u001b[0;32m~/anaconda3/envs/7gate/lib/python3.7/site-packages/pandas/core/internals/managers.py\u001b[0m in \u001b[0;36mapply\u001b[0;34m(self, f, axes, filter, do_integrity_check, consolidate, **kwargs)\u001b[0m\n\u001b[1;32m    393\u001b[0m                                             copy=align_copy)\n\u001b[1;32m    394\u001b[0m \u001b[0;34m\u001b[0m\u001b[0m\n\u001b[0;32m--> 395\u001b[0;31m             \u001b[0mapplied\u001b[0m \u001b[0;34m=\u001b[0m \u001b[0mgetattr\u001b[0m\u001b[0;34m(\u001b[0m\u001b[0mb\u001b[0m\u001b[0;34m,\u001b[0m \u001b[0mf\u001b[0m\u001b[0;34m)\u001b[0m\u001b[0;34m(\u001b[0m\u001b[0;34m**\u001b[0m\u001b[0mkwargs\u001b[0m\u001b[0;34m)\u001b[0m\u001b[0;34m\u001b[0m\u001b[0;34m\u001b[0m\u001b[0m\n\u001b[0m\u001b[1;32m    396\u001b[0m             \u001b[0mresult_blocks\u001b[0m \u001b[0;34m=\u001b[0m \u001b[0m_extend_blocks\u001b[0m\u001b[0;34m(\u001b[0m\u001b[0mapplied\u001b[0m\u001b[0;34m,\u001b[0m \u001b[0mresult_blocks\u001b[0m\u001b[0;34m)\u001b[0m\u001b[0;34m\u001b[0m\u001b[0;34m\u001b[0m\u001b[0m\n\u001b[1;32m    397\u001b[0m \u001b[0;34m\u001b[0m\u001b[0m\n",
      "\u001b[0;32m~/anaconda3/envs/7gate/lib/python3.7/site-packages/pandas/core/internals/blocks.py\u001b[0m in \u001b[0;36mastype\u001b[0;34m(self, dtype, copy, errors, values, **kwargs)\u001b[0m\n\u001b[1;32m    532\u001b[0m     \u001b[0;32mdef\u001b[0m \u001b[0mastype\u001b[0m\u001b[0;34m(\u001b[0m\u001b[0mself\u001b[0m\u001b[0;34m,\u001b[0m \u001b[0mdtype\u001b[0m\u001b[0;34m,\u001b[0m \u001b[0mcopy\u001b[0m\u001b[0;34m=\u001b[0m\u001b[0;32mFalse\u001b[0m\u001b[0;34m,\u001b[0m \u001b[0merrors\u001b[0m\u001b[0;34m=\u001b[0m\u001b[0;34m'raise'\u001b[0m\u001b[0;34m,\u001b[0m \u001b[0mvalues\u001b[0m\u001b[0;34m=\u001b[0m\u001b[0;32mNone\u001b[0m\u001b[0;34m,\u001b[0m \u001b[0;34m**\u001b[0m\u001b[0mkwargs\u001b[0m\u001b[0;34m)\u001b[0m\u001b[0;34m:\u001b[0m\u001b[0;34m\u001b[0m\u001b[0;34m\u001b[0m\u001b[0m\n\u001b[1;32m    533\u001b[0m         return self._astype(dtype, copy=copy, errors=errors, values=values,\n\u001b[0;32m--> 534\u001b[0;31m                             **kwargs)\n\u001b[0m\u001b[1;32m    535\u001b[0m \u001b[0;34m\u001b[0m\u001b[0m\n\u001b[1;32m    536\u001b[0m     def _astype(self, dtype, copy=False, errors='raise', values=None,\n",
      "\u001b[0;32m~/anaconda3/envs/7gate/lib/python3.7/site-packages/pandas/core/internals/blocks.py\u001b[0m in \u001b[0;36m_astype\u001b[0;34m(self, dtype, copy, errors, values, **kwargs)\u001b[0m\n\u001b[1;32m    631\u001b[0m \u001b[0;34m\u001b[0m\u001b[0m\n\u001b[1;32m    632\u001b[0m                     \u001b[0;31m# _astype_nansafe works fine with 1-d only\u001b[0m\u001b[0;34m\u001b[0m\u001b[0;34m\u001b[0m\u001b[0;34m\u001b[0m\u001b[0m\n\u001b[0;32m--> 633\u001b[0;31m                     \u001b[0mvalues\u001b[0m \u001b[0;34m=\u001b[0m \u001b[0mastype_nansafe\u001b[0m\u001b[0;34m(\u001b[0m\u001b[0mvalues\u001b[0m\u001b[0;34m.\u001b[0m\u001b[0mravel\u001b[0m\u001b[0;34m(\u001b[0m\u001b[0;34m)\u001b[0m\u001b[0;34m,\u001b[0m \u001b[0mdtype\u001b[0m\u001b[0;34m,\u001b[0m \u001b[0mcopy\u001b[0m\u001b[0;34m=\u001b[0m\u001b[0;32mTrue\u001b[0m\u001b[0;34m)\u001b[0m\u001b[0;34m\u001b[0m\u001b[0;34m\u001b[0m\u001b[0m\n\u001b[0m\u001b[1;32m    634\u001b[0m \u001b[0;34m\u001b[0m\u001b[0m\n\u001b[1;32m    635\u001b[0m                 \u001b[0;31m# TODO(extension)\u001b[0m\u001b[0;34m\u001b[0m\u001b[0;34m\u001b[0m\u001b[0;34m\u001b[0m\u001b[0m\n",
      "\u001b[0;32m~/anaconda3/envs/7gate/lib/python3.7/site-packages/pandas/core/dtypes/cast.py\u001b[0m in \u001b[0;36mastype_nansafe\u001b[0;34m(arr, dtype, copy, skipna)\u001b[0m\n\u001b[1;32m    681\u001b[0m         \u001b[0;31m# work around NumPy brokenness, #1987\u001b[0m\u001b[0;34m\u001b[0m\u001b[0;34m\u001b[0m\u001b[0;34m\u001b[0m\u001b[0m\n\u001b[1;32m    682\u001b[0m         \u001b[0;32mif\u001b[0m \u001b[0mnp\u001b[0m\u001b[0;34m.\u001b[0m\u001b[0missubdtype\u001b[0m\u001b[0;34m(\u001b[0m\u001b[0mdtype\u001b[0m\u001b[0;34m.\u001b[0m\u001b[0mtype\u001b[0m\u001b[0;34m,\u001b[0m \u001b[0mnp\u001b[0m\u001b[0;34m.\u001b[0m\u001b[0minteger\u001b[0m\u001b[0;34m)\u001b[0m\u001b[0;34m:\u001b[0m\u001b[0;34m\u001b[0m\u001b[0;34m\u001b[0m\u001b[0m\n\u001b[0;32m--> 683\u001b[0;31m             \u001b[0;32mreturn\u001b[0m \u001b[0mlib\u001b[0m\u001b[0;34m.\u001b[0m\u001b[0mastype_intsafe\u001b[0m\u001b[0;34m(\u001b[0m\u001b[0marr\u001b[0m\u001b[0;34m.\u001b[0m\u001b[0mravel\u001b[0m\u001b[0;34m(\u001b[0m\u001b[0;34m)\u001b[0m\u001b[0;34m,\u001b[0m \u001b[0mdtype\u001b[0m\u001b[0;34m)\u001b[0m\u001b[0;34m.\u001b[0m\u001b[0mreshape\u001b[0m\u001b[0;34m(\u001b[0m\u001b[0marr\u001b[0m\u001b[0;34m.\u001b[0m\u001b[0mshape\u001b[0m\u001b[0;34m)\u001b[0m\u001b[0;34m\u001b[0m\u001b[0;34m\u001b[0m\u001b[0m\n\u001b[0m\u001b[1;32m    684\u001b[0m \u001b[0;34m\u001b[0m\u001b[0m\n\u001b[1;32m    685\u001b[0m         \u001b[0;31m# if we have a datetime/timedelta array of objects\u001b[0m\u001b[0;34m\u001b[0m\u001b[0;34m\u001b[0m\u001b[0;34m\u001b[0m\u001b[0m\n",
      "\u001b[0;32mpandas/_libs/lib.pyx\u001b[0m in \u001b[0;36mpandas._libs.lib.astype_intsafe\u001b[0;34m()\u001b[0m\n",
      "\u001b[0;31mValueError\u001b[0m: invalid literal for int() with base 10: 'Unknown'"
     ]
    }
   ],
   "source": [
    "df_murder['victim_age'].astype('int64')"
   ]
  },
  {
   "cell_type": "markdown",
   "metadata": {
    "slideshow": {
     "slide_type": "slide"
    }
   },
   "source": [
    "It looks like there are a lot of unknowns... "
   ]
  },
  {
   "cell_type": "code",
   "execution_count": 34,
   "metadata": {},
   "outputs": [
    {
     "data": {
      "text/plain": [
       "2997"
      ]
     },
     "execution_count": 34,
     "metadata": {},
     "output_type": "execute_result"
    }
   ],
   "source": [
    "len(df_murder[df_murder['victim_age']=='Unknown'])"
   ]
  },
  {
   "cell_type": "markdown",
   "metadata": {
    "slideshow": {
     "slide_type": "slide"
    }
   },
   "source": [
    "It looks like a lot of the reports with unknown ages have unknown sex, race, etc as well. Therefore, we will compute the mean age (per gender) in the city of the unknown age and use that as our stand in. We do this because on average males are dying 3 years younger than females."
   ]
  },
  {
   "cell_type": "code",
   "execution_count": 35,
   "metadata": {},
   "outputs": [],
   "source": [
    "known_age_data = df_murder[df_murder['victim_age']!=\"Unknown\"].copy()\n",
    "\n",
    "known_age_female = known_age_data[known_age_data['victim_sex']=='Female']\n",
    "known_age_male = known_age_data[known_age_data['victim_sex']=='Male']\n",
    "\n",
    "dict_of_age_means = {}\n",
    "dict_of_age_means['Female'] = {}\n",
    "dict_of_age_means['Male'] = {}\n",
    "\n",
    "for city in known_age_female['city'].unique():\n",
    "    mean_age = round(known_age_female[known_age_female['city']==city]['victim_age'].astype('int64').mean()).astype('int64')\n",
    "    dict_of_age_means['Female'][city] = mean_age\n",
    "    \n",
    "for city in known_age_male['city'].unique():\n",
    "    mean_age = round(known_age_male[known_age_male['city']==city]['victim_age'].astype('int64').mean()).astype('int64')\n",
    "    dict_of_age_means['Male'][city] = mean_age\n",
    "    \n",
    "# Just in case sex isnt known, we default to total mean of data:\n",
    "total_mean = int(known_age_data['victim_age'].astype('int64').mean())"
   ]
  },
  {
   "cell_type": "code",
   "execution_count": 36,
   "metadata": {
    "slideshow": {
     "slide_type": "slide"
    }
   },
   "outputs": [],
   "source": [
    "def get_mean_age(row):\n",
    "    if row['victim_age'] == \"Unknown\":\n",
    "        if row['victim_sex'] != \"Unknown\":\n",
    "            return dict_of_age_means[row['victim_sex']][row['city']]\n",
    "        else:\n",
    "            return total_mean\n",
    "    else:\n",
    "        return row['victim_age']\n",
    "    \n",
    "df_murder['victim_age'] = df_murder.apply(get_mean_age, axis=1).astype('int64')"
   ]
  },
  {
   "cell_type": "markdown",
   "metadata": {
    "slideshow": {
     "slide_type": "slide"
    }
   },
   "source": [
    "Check for outliers"
   ]
  },
  {
   "cell_type": "code",
   "execution_count": 37,
   "metadata": {},
   "outputs": [
    {
     "name": "stdout",
     "output_type": "stream",
     "text": [
      "31.769484631029588 41.98646766189355\n"
     ]
    }
   ],
   "source": [
    "mean = df_murder['victim_age'].mean()\n",
    "std = 3*df_murder['victim_age'].std()\n",
    "\n",
    "print(mean, std)"
   ]
  },
  {
   "cell_type": "code",
   "execution_count": 38,
   "metadata": {},
   "outputs": [
    {
     "data": {
      "text/html": [
       "<div>\n",
       "<style scoped>\n",
       "    .dataframe tbody tr th:only-of-type {\n",
       "        vertical-align: middle;\n",
       "    }\n",
       "\n",
       "    .dataframe tbody tr th {\n",
       "        vertical-align: top;\n",
       "    }\n",
       "\n",
       "    .dataframe thead th {\n",
       "        text-align: right;\n",
       "    }\n",
       "</style>\n",
       "<table border=\"1\" class=\"dataframe\">\n",
       "  <thead>\n",
       "    <tr style=\"text-align: right;\">\n",
       "      <th></th>\n",
       "      <th>uid</th>\n",
       "      <th>reported_date</th>\n",
       "      <th>victim_race</th>\n",
       "      <th>victim_age</th>\n",
       "      <th>victim_sex</th>\n",
       "      <th>city</th>\n",
       "      <th>state</th>\n",
       "      <th>lat</th>\n",
       "      <th>lon</th>\n",
       "      <th>disposition</th>\n",
       "    </tr>\n",
       "  </thead>\n",
       "  <tbody>\n",
       "    <tr>\n",
       "      <th>28</th>\n",
       "      <td>Alb-000029</td>\n",
       "      <td>2010-07-26</td>\n",
       "      <td>Asian</td>\n",
       "      <td>1</td>\n",
       "      <td>Female</td>\n",
       "      <td>Albuquerque</td>\n",
       "      <td>NM</td>\n",
       "      <td>35.064456</td>\n",
       "      <td>-106.524458</td>\n",
       "      <td>Closed without arrest</td>\n",
       "    </tr>\n",
       "    <tr>\n",
       "      <th>32</th>\n",
       "      <td>Alb-000033</td>\n",
       "      <td>2010-08-20</td>\n",
       "      <td>Other</td>\n",
       "      <td>3</td>\n",
       "      <td>Female</td>\n",
       "      <td>Albuquerque</td>\n",
       "      <td>NM</td>\n",
       "      <td>35.072245</td>\n",
       "      <td>-106.570492</td>\n",
       "      <td>Closed by arrest</td>\n",
       "    </tr>\n",
       "    <tr>\n",
       "      <th>33</th>\n",
       "      <td>Alb-000034</td>\n",
       "      <td>2010-08-22</td>\n",
       "      <td>Hispanic</td>\n",
       "      <td>1</td>\n",
       "      <td>Male</td>\n",
       "      <td>Albuquerque</td>\n",
       "      <td>NM</td>\n",
       "      <td>35.073400</td>\n",
       "      <td>-106.695892</td>\n",
       "      <td>Closed by arrest</td>\n",
       "    </tr>\n",
       "    <tr>\n",
       "      <th>52</th>\n",
       "      <td>Alb-000053</td>\n",
       "      <td>2011-04-13</td>\n",
       "      <td>Other</td>\n",
       "      <td>2</td>\n",
       "      <td>Male</td>\n",
       "      <td>Albuquerque</td>\n",
       "      <td>NM</td>\n",
       "      <td>35.061363</td>\n",
       "      <td>-106.568493</td>\n",
       "      <td>Closed by arrest</td>\n",
       "    </tr>\n",
       "    <tr>\n",
       "      <th>67</th>\n",
       "      <td>Alb-000068</td>\n",
       "      <td>2011-08-25</td>\n",
       "      <td>White</td>\n",
       "      <td>0</td>\n",
       "      <td>Male</td>\n",
       "      <td>Albuquerque</td>\n",
       "      <td>NM</td>\n",
       "      <td>35.085033</td>\n",
       "      <td>-106.711680</td>\n",
       "      <td>Closed by arrest</td>\n",
       "    </tr>\n",
       "  </tbody>\n",
       "</table>\n",
       "</div>"
      ],
      "text/plain": [
       "           uid reported_date victim_race  victim_age victim_sex         city  \\\n",
       "28  Alb-000029    2010-07-26       Asian           1     Female  Albuquerque   \n",
       "32  Alb-000033    2010-08-20       Other           3     Female  Albuquerque   \n",
       "33  Alb-000034    2010-08-22    Hispanic           1       Male  Albuquerque   \n",
       "52  Alb-000053    2011-04-13       Other           2       Male  Albuquerque   \n",
       "67  Alb-000068    2011-08-25       White           0       Male  Albuquerque   \n",
       "\n",
       "   state        lat         lon            disposition  \n",
       "28    NM  35.064456 -106.524458  Closed without arrest  \n",
       "32    NM  35.072245 -106.570492       Closed by arrest  \n",
       "33    NM  35.073400 -106.695892       Closed by arrest  \n",
       "52    NM  35.061363 -106.568493       Closed by arrest  \n",
       "67    NM  35.085033 -106.711680       Closed by arrest  "
      ]
     },
     "execution_count": 38,
     "metadata": {},
     "output_type": "execute_result"
    }
   ],
   "source": [
    "df_murder[(df_murder['victim_age'] < 5)].head(5)"
   ]
  },
  {
   "cell_type": "markdown",
   "metadata": {
    "slideshow": {
     "slide_type": "slide"
    }
   },
   "source": [
    "If we look at a 10 binned histogram, there doesnt appear to be anything out of the ordinary"
   ]
  },
  {
   "cell_type": "code",
   "execution_count": 39,
   "metadata": {},
   "outputs": [
    {
     "data": {
      "image/png": "[encoded data removed]",
      "text/plain": [
       "<Figure size 1080x576 with 1 Axes>"
      ]
     },
     "metadata": {
      "needs_background": "light"
     },
     "output_type": "display_data"
    }
   ],
   "source": [
    "df_murder['victim_age'].hist(bins=10, figsize=(15,8));"
   ]
  },
  {
   "cell_type": "markdown",
   "metadata": {},
   "source": [
    "However, after increasing the granularity, we can see where we inserted our means"
   ]
  },
  {
   "cell_type": "code",
   "execution_count": 40,
   "metadata": {},
   "outputs": [
    {
     "data": {
      "image/png": "[encoded data removed]",
      "text/plain": [
       "<Figure size 1080x576 with 1 Axes>"
      ]
     },
     "metadata": {
      "needs_background": "light"
     },
     "output_type": "display_data"
    }
   ],
   "source": [
    "df_murder['victim_age'].hist(bins=100, figsize=(15,8));"
   ]
  },
  {
   "cell_type": "markdown",
   "metadata": {},
   "source": [
    "This is not an acceptable solution. We will instead choose to discard the rows without age information"
   ]
  },
  {
   "cell_type": "code",
   "execution_count": 41,
   "metadata": {},
   "outputs": [
    {
     "name": "stderr",
     "output_type": "stream",
     "text": [
      "/home/nahal/anaconda3/envs/7gate/lib/python3.7/site-packages/pandas/core/ops.py:1649: FutureWarning: elementwise comparison failed; returning scalar instead, but in the future will perform elementwise comparison\n",
      "  result = method(y)\n"
     ]
    }
   ],
   "source": [
    "df_murder = df_murder[~(df_murder['victim_age']=='Unknown')]"
   ]
  },
  {
   "cell_type": "markdown",
   "metadata": {
    "slideshow": {
     "slide_type": "slide"
    }
   },
   "source": [
    "## Normalize Ages"
   ]
  },
  {
   "cell_type": "code",
   "execution_count": 48,
   "metadata": {},
   "outputs": [],
   "source": [
    "xmax = df_murder['victim_age'].max()\n",
    "xmin = df_murder['victim_age'].min()\n",
    "\n",
    "f = lambda x: (x-xmin) / (xmax-xmin)\n",
    "\n",
    "df_murder['victim_age'] = df_murder['victim_age'].map(f)   "
   ]
  },
  {
   "cell_type": "markdown",
   "metadata": {
    "slideshow": {
     "slide_type": "slide"
    }
   },
   "source": [
    "# Cities\n",
    "There are no unknowns."
   ]
  },
  {
   "cell_type": "code",
   "execution_count": 49,
   "metadata": {},
   "outputs": [
    {
     "data": {
      "text/plain": [
       "50"
      ]
     },
     "execution_count": 49,
     "metadata": {},
     "output_type": "execute_result"
    }
   ],
   "source": [
    "len(df_murder['city'].unique())"
   ]
  },
  {
   "cell_type": "markdown",
   "metadata": {
    "slideshow": {
     "slide_type": "slide"
    }
   },
   "source": [
    "### Curse of Dimensionality\n",
    "- Do we one hot encode this? Suddenly we are introducing 5x more features. Cities are tricky. There are fifty of them and they have no real order. However, we could come up with our own way to order a city (through population size for example). \n",
    "- For now, we will just assign a value 0 to 50 to each city"
   ]
  },
  {
   "cell_type": "code",
   "execution_count": 50,
   "metadata": {
    "slideshow": {
     "slide_type": "slide"
    }
   },
   "outputs": [
    {
     "data": {
      "image/png": "[encoded data removed]",
      "text/plain": [
       "<Figure size 1080x576 with 1 Axes>"
      ]
     },
     "metadata": {
      "needs_background": "light"
     },
     "output_type": "display_data"
    }
   ],
   "source": [
    "df_murder.groupby('city').count()['uid'].sort_values(ascending=False).head(20).plot(kind='bar', figsize=(15,8));\n",
    "plt.xticks(rotation=45);"
   ]
  },
  {
   "cell_type": "code",
   "execution_count": 51,
   "metadata": {
    "slideshow": {
     "slide_type": "slide"
    }
   },
   "outputs": [],
   "source": [
    "encoded_cities_dict = {k: v for k,v in zip(df_murder['city'].unique(),list(range(1,len(df_murder['city'].unique())+1)))}\n",
    "\n",
    "def encode_city(x):\n",
    "    return encoded_cities_dict[x]"
   ]
  },
  {
   "cell_type": "code",
   "execution_count": 52,
   "metadata": {},
   "outputs": [],
   "source": [
    "df_murder['city'] = df_murder['city'].apply(encode_city)"
   ]
  },
  {
   "cell_type": "markdown",
   "metadata": {
    "slideshow": {
     "slide_type": "slide"
    }
   },
   "source": [
    "### Normalize Cities"
   ]
  },
  {
   "cell_type": "code",
   "execution_count": 53,
   "metadata": {},
   "outputs": [],
   "source": [
    "xmax = df_murder['city'].max()\n",
    "xmin = df_murder['city'].min()\n",
    "\n",
    "f = lambda x: (x-xmin) / (xmax-xmin)\n",
    "\n",
    "df_murder['city'] = df_murder['city'].map(f)"
   ]
  },
  {
   "cell_type": "markdown",
   "metadata": {
    "slideshow": {
     "slide_type": "slide"
    }
   },
   "source": [
    "# States\n",
    "We will treat states as we treated cities earlier"
   ]
  },
  {
   "cell_type": "code",
   "execution_count": 54,
   "metadata": {},
   "outputs": [
    {
     "data": {
      "image/png": "[encoded data removed]",
      "text/plain": [
       "<Figure size 1080x576 with 1 Axes>"
      ]
     },
     "metadata": {
      "needs_background": "light"
     },
     "output_type": "display_data"
    }
   ],
   "source": [
    "df_murder.groupby('state').count()['uid'].sort_values(ascending=False).plot(kind='bar', figsize=(15,8));\n",
    "plt.xticks(rotation=45);"
   ]
  },
  {
   "cell_type": "code",
   "execution_count": 55,
   "metadata": {
    "slideshow": {
     "slide_type": "slide"
    }
   },
   "outputs": [],
   "source": [
    "encoded_states_dict = {k: v for k,v in zip(df_murder['state'].unique(),list(range(1,len(df_murder['state'].unique())+1)))}\n",
    "def encode_state(x):\n",
    "    return encoded_states_dict[x]"
   ]
  },
  {
   "cell_type": "code",
   "execution_count": 56,
   "metadata": {},
   "outputs": [],
   "source": [
    "df_murder['state'] = df_murder['state'].apply(encode_state)"
   ]
  },
  {
   "cell_type": "code",
   "execution_count": 57,
   "metadata": {},
   "outputs": [],
   "source": [
    "xmax = df_murder['state'].max()\n",
    "xmin = df_murder['state'].min()\n",
    "\n",
    "f = lambda x: (x-xmin) / (xmax-xmin)\n",
    "\n",
    "df_murder['state'] = df_murder['state'].map(f)"
   ]
  },
  {
   "cell_type": "markdown",
   "metadata": {
    "slideshow": {
     "slide_type": "slide"
    }
   },
   "source": [
    "# victim_race\n",
    "We see a lot of unknowns, and we choose to get rid of them. We then one hot encode this column."
   ]
  },
  {
   "cell_type": "code",
   "execution_count": 59,
   "metadata": {},
   "outputs": [
    {
     "data": {
      "image/png": "[encoded data removed]",
      "text/plain": [
       "<Figure size 1080x576 with 1 Axes>"
      ]
     },
     "metadata": {
      "needs_background": "light"
     },
     "output_type": "display_data"
    }
   ],
   "source": [
    "df_murder.groupby('victim_race').count()['uid'].sort_values(ascending=False).plot(kind='bar', figsize=(15,8));\n",
    "plt.xticks(rotation=45);"
   ]
  },
  {
   "cell_type": "code",
   "execution_count": 60,
   "metadata": {
    "slideshow": {
     "slide_type": "slide"
    }
   },
   "outputs": [],
   "source": [
    "df_murder = df_murder[~(df_murder['victim_race']=='Unknown')]"
   ]
  },
  {
   "cell_type": "code",
   "execution_count": 61,
   "metadata": {},
   "outputs": [],
   "source": [
    "df_murder = df_murder.join(pd.get_dummies(df_murder['victim_race']))"
   ]
  },
  {
   "cell_type": "code",
   "execution_count": 62,
   "metadata": {},
   "outputs": [
    {
     "data": {
      "text/html": [
       "<div>\n",
       "<style scoped>\n",
       "    .dataframe tbody tr th:only-of-type {\n",
       "        vertical-align: middle;\n",
       "    }\n",
       "\n",
       "    .dataframe tbody tr th {\n",
       "        vertical-align: top;\n",
       "    }\n",
       "\n",
       "    .dataframe thead th {\n",
       "        text-align: right;\n",
       "    }\n",
       "</style>\n",
       "<table border=\"1\" class=\"dataframe\">\n",
       "  <thead>\n",
       "    <tr style=\"text-align: right;\">\n",
       "      <th></th>\n",
       "      <th>uid</th>\n",
       "      <th>reported_date</th>\n",
       "      <th>victim_age</th>\n",
       "      <th>victim_sex</th>\n",
       "      <th>city</th>\n",
       "      <th>state</th>\n",
       "      <th>lat</th>\n",
       "      <th>lon</th>\n",
       "      <th>disposition</th>\n",
       "      <th>Asian</th>\n",
       "      <th>Black</th>\n",
       "      <th>Hispanic</th>\n",
       "      <th>Other</th>\n",
       "      <th>White</th>\n",
       "    </tr>\n",
       "  </thead>\n",
       "  <tbody>\n",
       "    <tr>\n",
       "      <th>0</th>\n",
       "      <td>Alb-000001</td>\n",
       "      <td>2010-05-04</td>\n",
       "      <td>0.764706</td>\n",
       "      <td>Male</td>\n",
       "      <td>0.0</td>\n",
       "      <td>0.0</td>\n",
       "      <td>35.095788</td>\n",
       "      <td>-106.538555</td>\n",
       "      <td>Closed without arrest</td>\n",
       "      <td>0</td>\n",
       "      <td>0</td>\n",
       "      <td>1</td>\n",
       "      <td>0</td>\n",
       "      <td>0</td>\n",
       "    </tr>\n",
       "    <tr>\n",
       "      <th>1</th>\n",
       "      <td>Alb-000002</td>\n",
       "      <td>2010-02-16</td>\n",
       "      <td>0.166667</td>\n",
       "      <td>Male</td>\n",
       "      <td>0.0</td>\n",
       "      <td>0.0</td>\n",
       "      <td>35.056810</td>\n",
       "      <td>-106.715321</td>\n",
       "      <td>Closed by arrest</td>\n",
       "      <td>0</td>\n",
       "      <td>0</td>\n",
       "      <td>1</td>\n",
       "      <td>0</td>\n",
       "      <td>0</td>\n",
       "    </tr>\n",
       "    <tr>\n",
       "      <th>2</th>\n",
       "      <td>Alb-000003</td>\n",
       "      <td>2010-06-01</td>\n",
       "      <td>0.147059</td>\n",
       "      <td>Female</td>\n",
       "      <td>0.0</td>\n",
       "      <td>0.0</td>\n",
       "      <td>35.086092</td>\n",
       "      <td>-106.695568</td>\n",
       "      <td>Closed without arrest</td>\n",
       "      <td>0</td>\n",
       "      <td>0</td>\n",
       "      <td>0</td>\n",
       "      <td>0</td>\n",
       "      <td>1</td>\n",
       "    </tr>\n",
       "    <tr>\n",
       "      <th>3</th>\n",
       "      <td>Alb-000004</td>\n",
       "      <td>2010-01-01</td>\n",
       "      <td>0.313725</td>\n",
       "      <td>Male</td>\n",
       "      <td>0.0</td>\n",
       "      <td>0.0</td>\n",
       "      <td>35.078493</td>\n",
       "      <td>-106.556094</td>\n",
       "      <td>Closed by arrest</td>\n",
       "      <td>0</td>\n",
       "      <td>0</td>\n",
       "      <td>1</td>\n",
       "      <td>0</td>\n",
       "      <td>0</td>\n",
       "    </tr>\n",
       "    <tr>\n",
       "      <th>4</th>\n",
       "      <td>Alb-000005</td>\n",
       "      <td>2010-01-02</td>\n",
       "      <td>0.705882</td>\n",
       "      <td>Female</td>\n",
       "      <td>0.0</td>\n",
       "      <td>0.0</td>\n",
       "      <td>35.130357</td>\n",
       "      <td>-106.580986</td>\n",
       "      <td>Closed without arrest</td>\n",
       "      <td>0</td>\n",
       "      <td>0</td>\n",
       "      <td>0</td>\n",
       "      <td>0</td>\n",
       "      <td>1</td>\n",
       "    </tr>\n",
       "  </tbody>\n",
       "</table>\n",
       "</div>"
      ],
      "text/plain": [
       "          uid reported_date  victim_age victim_sex  city  state        lat  \\\n",
       "0  Alb-000001    2010-05-04    0.764706       Male   0.0    0.0  35.095788   \n",
       "1  Alb-000002    2010-02-16    0.166667       Male   0.0    0.0  35.056810   \n",
       "2  Alb-000003    2010-06-01    0.147059     Female   0.0    0.0  35.086092   \n",
       "3  Alb-000004    2010-01-01    0.313725       Male   0.0    0.0  35.078493   \n",
       "4  Alb-000005    2010-01-02    0.705882     Female   0.0    0.0  35.130357   \n",
       "\n",
       "          lon            disposition  Asian  Black  Hispanic  Other  White  \n",
       "0 -106.538555  Closed without arrest      0      0         1      0      0  \n",
       "1 -106.715321       Closed by arrest      0      0         1      0      0  \n",
       "2 -106.695568  Closed without arrest      0      0         0      0      1  \n",
       "3 -106.556094       Closed by arrest      0      0         1      0      0  \n",
       "4 -106.580986  Closed without arrest      0      0         0      0      1  "
      ]
     },
     "execution_count": 62,
     "metadata": {},
     "output_type": "execute_result"
    }
   ],
   "source": [
    "del df_murder['victim_race']\n",
    "df_murder.head(5)"
   ]
  },
  {
   "cell_type": "markdown",
   "metadata": {
    "slideshow": {
     "slide_type": "slide"
    }
   },
   "source": [
    "# victim_sex\n"
   ]
  },
  {
   "cell_type": "markdown",
   "metadata": {},
   "source": [
    "There are fewer unknowns because of our earlier cleaning. Still, we will delete unknown values and then one hot encode this column."
   ]
  },
  {
   "cell_type": "code",
   "execution_count": 64,
   "metadata": {},
   "outputs": [
    {
     "data": {
      "image/png": "[encoded data removed]",
      "text/plain": [
       "<Figure size 1080x576 with 1 Axes>"
      ]
     },
     "metadata": {
      "needs_background": "light"
     },
     "output_type": "display_data"
    }
   ],
   "source": [
    "df_murder.groupby('victim_sex').count()['uid'].sort_values(ascending=False).plot(kind='bar', figsize=(15,8));\n",
    "plt.xticks(rotation=45);"
   ]
  },
  {
   "cell_type": "code",
   "execution_count": 65,
   "metadata": {
    "slideshow": {
     "slide_type": "slide"
    }
   },
   "outputs": [],
   "source": [
    "df_murder = df_murder[~(df_murder['victim_sex']=='Unknown')]"
   ]
  },
  {
   "cell_type": "code",
   "execution_count": 66,
   "metadata": {},
   "outputs": [],
   "source": [
    "df_murder = df_murder.join(pd.get_dummies(df_murder['victim_sex']))"
   ]
  },
  {
   "cell_type": "code",
   "execution_count": 67,
   "metadata": {},
   "outputs": [
    {
     "data": {
      "text/html": [
       "<div>\n",
       "<style scoped>\n",
       "    .dataframe tbody tr th:only-of-type {\n",
       "        vertical-align: middle;\n",
       "    }\n",
       "\n",
       "    .dataframe tbody tr th {\n",
       "        vertical-align: top;\n",
       "    }\n",
       "\n",
       "    .dataframe thead th {\n",
       "        text-align: right;\n",
       "    }\n",
       "</style>\n",
       "<table border=\"1\" class=\"dataframe\">\n",
       "  <thead>\n",
       "    <tr style=\"text-align: right;\">\n",
       "      <th></th>\n",
       "      <th>uid</th>\n",
       "      <th>reported_date</th>\n",
       "      <th>victim_age</th>\n",
       "      <th>city</th>\n",
       "      <th>state</th>\n",
       "      <th>lat</th>\n",
       "      <th>lon</th>\n",
       "      <th>disposition</th>\n",
       "      <th>Asian</th>\n",
       "      <th>Black</th>\n",
       "      <th>Hispanic</th>\n",
       "      <th>Other</th>\n",
       "      <th>White</th>\n",
       "      <th>Female</th>\n",
       "      <th>Male</th>\n",
       "    </tr>\n",
       "  </thead>\n",
       "  <tbody>\n",
       "    <tr>\n",
       "      <th>0</th>\n",
       "      <td>Alb-000001</td>\n",
       "      <td>2010-05-04</td>\n",
       "      <td>0.764706</td>\n",
       "      <td>0.0</td>\n",
       "      <td>0.0</td>\n",
       "      <td>35.095788</td>\n",
       "      <td>-106.538555</td>\n",
       "      <td>Closed without arrest</td>\n",
       "      <td>0</td>\n",
       "      <td>0</td>\n",
       "      <td>1</td>\n",
       "      <td>0</td>\n",
       "      <td>0</td>\n",
       "      <td>0</td>\n",
       "      <td>1</td>\n",
       "    </tr>\n",
       "    <tr>\n",
       "      <th>1</th>\n",
       "      <td>Alb-000002</td>\n",
       "      <td>2010-02-16</td>\n",
       "      <td>0.166667</td>\n",
       "      <td>0.0</td>\n",
       "      <td>0.0</td>\n",
       "      <td>35.056810</td>\n",
       "      <td>-106.715321</td>\n",
       "      <td>Closed by arrest</td>\n",
       "      <td>0</td>\n",
       "      <td>0</td>\n",
       "      <td>1</td>\n",
       "      <td>0</td>\n",
       "      <td>0</td>\n",
       "      <td>0</td>\n",
       "      <td>1</td>\n",
       "    </tr>\n",
       "    <tr>\n",
       "      <th>2</th>\n",
       "      <td>Alb-000003</td>\n",
       "      <td>2010-06-01</td>\n",
       "      <td>0.147059</td>\n",
       "      <td>0.0</td>\n",
       "      <td>0.0</td>\n",
       "      <td>35.086092</td>\n",
       "      <td>-106.695568</td>\n",
       "      <td>Closed without arrest</td>\n",
       "      <td>0</td>\n",
       "      <td>0</td>\n",
       "      <td>0</td>\n",
       "      <td>0</td>\n",
       "      <td>1</td>\n",
       "      <td>1</td>\n",
       "      <td>0</td>\n",
       "    </tr>\n",
       "    <tr>\n",
       "      <th>3</th>\n",
       "      <td>Alb-000004</td>\n",
       "      <td>2010-01-01</td>\n",
       "      <td>0.313725</td>\n",
       "      <td>0.0</td>\n",
       "      <td>0.0</td>\n",
       "      <td>35.078493</td>\n",
       "      <td>-106.556094</td>\n",
       "      <td>Closed by arrest</td>\n",
       "      <td>0</td>\n",
       "      <td>0</td>\n",
       "      <td>1</td>\n",
       "      <td>0</td>\n",
       "      <td>0</td>\n",
       "      <td>0</td>\n",
       "      <td>1</td>\n",
       "    </tr>\n",
       "    <tr>\n",
       "      <th>4</th>\n",
       "      <td>Alb-000005</td>\n",
       "      <td>2010-01-02</td>\n",
       "      <td>0.705882</td>\n",
       "      <td>0.0</td>\n",
       "      <td>0.0</td>\n",
       "      <td>35.130357</td>\n",
       "      <td>-106.580986</td>\n",
       "      <td>Closed without arrest</td>\n",
       "      <td>0</td>\n",
       "      <td>0</td>\n",
       "      <td>0</td>\n",
       "      <td>0</td>\n",
       "      <td>1</td>\n",
       "      <td>1</td>\n",
       "      <td>0</td>\n",
       "    </tr>\n",
       "  </tbody>\n",
       "</table>\n",
       "</div>"
      ],
      "text/plain": [
       "          uid reported_date  victim_age  city  state        lat         lon  \\\n",
       "0  Alb-000001    2010-05-04    0.764706   0.0    0.0  35.095788 -106.538555   \n",
       "1  Alb-000002    2010-02-16    0.166667   0.0    0.0  35.056810 -106.715321   \n",
       "2  Alb-000003    2010-06-01    0.147059   0.0    0.0  35.086092 -106.695568   \n",
       "3  Alb-000004    2010-01-01    0.313725   0.0    0.0  35.078493 -106.556094   \n",
       "4  Alb-000005    2010-01-02    0.705882   0.0    0.0  35.130357 -106.580986   \n",
       "\n",
       "             disposition  Asian  Black  Hispanic  Other  White  Female  Male  \n",
       "0  Closed without arrest      0      0         1      0      0       0     1  \n",
       "1       Closed by arrest      0      0         1      0      0       0     1  \n",
       "2  Closed without arrest      0      0         0      0      1       1     0  \n",
       "3       Closed by arrest      0      0         1      0      0       0     1  \n",
       "4  Closed without arrest      0      0         0      0      1       1     0  "
      ]
     },
     "execution_count": 67,
     "metadata": {},
     "output_type": "execute_result"
    }
   ],
   "source": [
    "del df_murder['victim_sex']\n",
    "df_murder.head(5)"
   ]
  },
  {
   "cell_type": "markdown",
   "metadata": {
    "slideshow": {
     "slide_type": "slide"
    }
   },
   "source": [
    "# Disposition\n",
    "We will one hot encode Disposition. There are three different categories."
   ]
  },
  {
   "cell_type": "code",
   "execution_count": 68,
   "metadata": {},
   "outputs": [
    {
     "data": {
      "text/html": [
       "<div>\n",
       "<style scoped>\n",
       "    .dataframe tbody tr th:only-of-type {\n",
       "        vertical-align: middle;\n",
       "    }\n",
       "\n",
       "    .dataframe tbody tr th {\n",
       "        vertical-align: top;\n",
       "    }\n",
       "\n",
       "    .dataframe thead th {\n",
       "        text-align: right;\n",
       "    }\n",
       "</style>\n",
       "<table border=\"1\" class=\"dataframe\">\n",
       "  <thead>\n",
       "    <tr style=\"text-align: right;\">\n",
       "      <th></th>\n",
       "      <th>uid</th>\n",
       "      <th>reported_date</th>\n",
       "      <th>victim_age</th>\n",
       "      <th>city</th>\n",
       "      <th>state</th>\n",
       "      <th>lat</th>\n",
       "      <th>lon</th>\n",
       "      <th>Asian</th>\n",
       "      <th>Black</th>\n",
       "      <th>Hispanic</th>\n",
       "      <th>Other</th>\n",
       "      <th>White</th>\n",
       "      <th>Female</th>\n",
       "      <th>Male</th>\n",
       "      <th>Closed by arrest</th>\n",
       "      <th>Closed without arrest</th>\n",
       "      <th>Open/No arrest</th>\n",
       "    </tr>\n",
       "  </thead>\n",
       "  <tbody>\n",
       "    <tr>\n",
       "      <th>0</th>\n",
       "      <td>Alb-000001</td>\n",
       "      <td>2010-05-04</td>\n",
       "      <td>0.764706</td>\n",
       "      <td>0.0</td>\n",
       "      <td>0.0</td>\n",
       "      <td>35.095788</td>\n",
       "      <td>-106.538555</td>\n",
       "      <td>0</td>\n",
       "      <td>0</td>\n",
       "      <td>1</td>\n",
       "      <td>0</td>\n",
       "      <td>0</td>\n",
       "      <td>0</td>\n",
       "      <td>1</td>\n",
       "      <td>0</td>\n",
       "      <td>1</td>\n",
       "      <td>0</td>\n",
       "    </tr>\n",
       "    <tr>\n",
       "      <th>1</th>\n",
       "      <td>Alb-000002</td>\n",
       "      <td>2010-02-16</td>\n",
       "      <td>0.166667</td>\n",
       "      <td>0.0</td>\n",
       "      <td>0.0</td>\n",
       "      <td>35.056810</td>\n",
       "      <td>-106.715321</td>\n",
       "      <td>0</td>\n",
       "      <td>0</td>\n",
       "      <td>1</td>\n",
       "      <td>0</td>\n",
       "      <td>0</td>\n",
       "      <td>0</td>\n",
       "      <td>1</td>\n",
       "      <td>1</td>\n",
       "      <td>0</td>\n",
       "      <td>0</td>\n",
       "    </tr>\n",
       "    <tr>\n",
       "      <th>2</th>\n",
       "      <td>Alb-000003</td>\n",
       "      <td>2010-06-01</td>\n",
       "      <td>0.147059</td>\n",
       "      <td>0.0</td>\n",
       "      <td>0.0</td>\n",
       "      <td>35.086092</td>\n",
       "      <td>-106.695568</td>\n",
       "      <td>0</td>\n",
       "      <td>0</td>\n",
       "      <td>0</td>\n",
       "      <td>0</td>\n",
       "      <td>1</td>\n",
       "      <td>1</td>\n",
       "      <td>0</td>\n",
       "      <td>0</td>\n",
       "      <td>1</td>\n",
       "      <td>0</td>\n",
       "    </tr>\n",
       "    <tr>\n",
       "      <th>3</th>\n",
       "      <td>Alb-000004</td>\n",
       "      <td>2010-01-01</td>\n",
       "      <td>0.313725</td>\n",
       "      <td>0.0</td>\n",
       "      <td>0.0</td>\n",
       "      <td>35.078493</td>\n",
       "      <td>-106.556094</td>\n",
       "      <td>0</td>\n",
       "      <td>0</td>\n",
       "      <td>1</td>\n",
       "      <td>0</td>\n",
       "      <td>0</td>\n",
       "      <td>0</td>\n",
       "      <td>1</td>\n",
       "      <td>1</td>\n",
       "      <td>0</td>\n",
       "      <td>0</td>\n",
       "    </tr>\n",
       "    <tr>\n",
       "      <th>4</th>\n",
       "      <td>Alb-000005</td>\n",
       "      <td>2010-01-02</td>\n",
       "      <td>0.705882</td>\n",
       "      <td>0.0</td>\n",
       "      <td>0.0</td>\n",
       "      <td>35.130357</td>\n",
       "      <td>-106.580986</td>\n",
       "      <td>0</td>\n",
       "      <td>0</td>\n",
       "      <td>0</td>\n",
       "      <td>0</td>\n",
       "      <td>1</td>\n",
       "      <td>1</td>\n",
       "      <td>0</td>\n",
       "      <td>0</td>\n",
       "      <td>1</td>\n",
       "      <td>0</td>\n",
       "    </tr>\n",
       "  </tbody>\n",
       "</table>\n",
       "</div>"
      ],
      "text/plain": [
       "          uid reported_date  victim_age  city  state        lat         lon  \\\n",
       "0  Alb-000001    2010-05-04    0.764706   0.0    0.0  35.095788 -106.538555   \n",
       "1  Alb-000002    2010-02-16    0.166667   0.0    0.0  35.056810 -106.715321   \n",
       "2  Alb-000003    2010-06-01    0.147059   0.0    0.0  35.086092 -106.695568   \n",
       "3  Alb-000004    2010-01-01    0.313725   0.0    0.0  35.078493 -106.556094   \n",
       "4  Alb-000005    2010-01-02    0.705882   0.0    0.0  35.130357 -106.580986   \n",
       "\n",
       "   Asian  Black  Hispanic  Other  White  Female  Male  Closed by arrest  \\\n",
       "0      0      0         1      0      0       0     1                 0   \n",
       "1      0      0         1      0      0       0     1                 1   \n",
       "2      0      0         0      0      1       1     0                 0   \n",
       "3      0      0         1      0      0       0     1                 1   \n",
       "4      0      0         0      0      1       1     0                 0   \n",
       "\n",
       "   Closed without arrest  Open/No arrest  \n",
       "0                      1               0  \n",
       "1                      0               0  \n",
       "2                      1               0  \n",
       "3                      0               0  \n",
       "4                      1               0  "
      ]
     },
     "execution_count": 68,
     "metadata": {},
     "output_type": "execute_result"
    }
   ],
   "source": [
    "df_murder = df_murder.join(pd.get_dummies(df_murder['disposition']))\n",
    "del df_murder['disposition']\n",
    "df_murder.head(5)"
   ]
  },
  {
   "cell_type": "markdown",
   "metadata": {
    "slideshow": {
     "slide_type": "slide"
    }
   },
   "source": [
    "# LAT and LON"
   ]
  },
  {
   "cell_type": "markdown",
   "metadata": {},
   "source": [
    "Since there was a negative in lon, I took the absolute value before normalizing it."
   ]
  },
  {
   "cell_type": "code",
   "execution_count": 69,
   "metadata": {},
   "outputs": [],
   "source": [
    "df_murder['lon'] = abs(df_murder['lon'])\n",
    "\n",
    "for coord in ['lat', 'lon']:\n",
    "    xmax = df_murder[coord].max()\n",
    "    xmin = df_murder[coord].min()\n",
    "\n",
    "    f = lambda x: (x-xmin) / (xmax-xmin)\n",
    "\n",
    "    df_murder[coord] = df_murder[coord].map(f)"
   ]
  },
  {
   "cell_type": "markdown",
   "metadata": {
    "slideshow": {
     "slide_type": "slide"
    }
   },
   "source": [
    "# Final Data"
   ]
  },
  {
   "cell_type": "code",
   "execution_count": 70,
   "metadata": {},
   "outputs": [
    {
     "data": {
      "text/html": [
       "<div>\n",
       "<style scoped>\n",
       "    .dataframe tbody tr th:only-of-type {\n",
       "        vertical-align: middle;\n",
       "    }\n",
       "\n",
       "    .dataframe tbody tr th {\n",
       "        vertical-align: top;\n",
       "    }\n",
       "\n",
       "    .dataframe thead th {\n",
       "        text-align: right;\n",
       "    }\n",
       "</style>\n",
       "<table border=\"1\" class=\"dataframe\">\n",
       "  <thead>\n",
       "    <tr style=\"text-align: right;\">\n",
       "      <th></th>\n",
       "      <th>uid</th>\n",
       "      <th>reported_date</th>\n",
       "      <th>victim_age</th>\n",
       "      <th>city</th>\n",
       "      <th>state</th>\n",
       "      <th>lat</th>\n",
       "      <th>lon</th>\n",
       "      <th>Asian</th>\n",
       "      <th>Black</th>\n",
       "      <th>Hispanic</th>\n",
       "      <th>Other</th>\n",
       "      <th>White</th>\n",
       "      <th>Female</th>\n",
       "      <th>Male</th>\n",
       "      <th>Closed by arrest</th>\n",
       "      <th>Closed without arrest</th>\n",
       "      <th>Open/No arrest</th>\n",
       "    </tr>\n",
       "  </thead>\n",
       "  <tbody>\n",
       "    <tr>\n",
       "      <th>0</th>\n",
       "      <td>Alb-000001</td>\n",
       "      <td>2010-05-04</td>\n",
       "      <td>0.764706</td>\n",
       "      <td>0.0</td>\n",
       "      <td>0.0</td>\n",
       "      <td>0.484869</td>\n",
       "      <td>0.689895</td>\n",
       "      <td>0</td>\n",
       "      <td>0</td>\n",
       "      <td>1</td>\n",
       "      <td>0</td>\n",
       "      <td>0</td>\n",
       "      <td>0</td>\n",
       "      <td>1</td>\n",
       "      <td>0</td>\n",
       "      <td>1</td>\n",
       "      <td>0</td>\n",
       "    </tr>\n",
       "    <tr>\n",
       "      <th>1</th>\n",
       "      <td>Alb-000002</td>\n",
       "      <td>2010-02-16</td>\n",
       "      <td>0.166667</td>\n",
       "      <td>0.0</td>\n",
       "      <td>0.0</td>\n",
       "      <td>0.482853</td>\n",
       "      <td>0.693328</td>\n",
       "      <td>0</td>\n",
       "      <td>0</td>\n",
       "      <td>1</td>\n",
       "      <td>0</td>\n",
       "      <td>0</td>\n",
       "      <td>0</td>\n",
       "      <td>1</td>\n",
       "      <td>1</td>\n",
       "      <td>0</td>\n",
       "      <td>0</td>\n",
       "    </tr>\n",
       "    <tr>\n",
       "      <th>2</th>\n",
       "      <td>Alb-000003</td>\n",
       "      <td>2010-06-01</td>\n",
       "      <td>0.147059</td>\n",
       "      <td>0.0</td>\n",
       "      <td>0.0</td>\n",
       "      <td>0.484368</td>\n",
       "      <td>0.692944</td>\n",
       "      <td>0</td>\n",
       "      <td>0</td>\n",
       "      <td>0</td>\n",
       "      <td>0</td>\n",
       "      <td>1</td>\n",
       "      <td>1</td>\n",
       "      <td>0</td>\n",
       "      <td>0</td>\n",
       "      <td>1</td>\n",
       "      <td>0</td>\n",
       "    </tr>\n",
       "    <tr>\n",
       "      <th>3</th>\n",
       "      <td>Alb-000004</td>\n",
       "      <td>2010-01-01</td>\n",
       "      <td>0.313725</td>\n",
       "      <td>0.0</td>\n",
       "      <td>0.0</td>\n",
       "      <td>0.483974</td>\n",
       "      <td>0.690236</td>\n",
       "      <td>0</td>\n",
       "      <td>0</td>\n",
       "      <td>1</td>\n",
       "      <td>0</td>\n",
       "      <td>0</td>\n",
       "      <td>0</td>\n",
       "      <td>1</td>\n",
       "      <td>1</td>\n",
       "      <td>0</td>\n",
       "      <td>0</td>\n",
       "    </tr>\n",
       "    <tr>\n",
       "      <th>4</th>\n",
       "      <td>Alb-000005</td>\n",
       "      <td>2010-01-02</td>\n",
       "      <td>0.705882</td>\n",
       "      <td>0.0</td>\n",
       "      <td>0.0</td>\n",
       "      <td>0.486658</td>\n",
       "      <td>0.690719</td>\n",
       "      <td>0</td>\n",
       "      <td>0</td>\n",
       "      <td>0</td>\n",
       "      <td>0</td>\n",
       "      <td>1</td>\n",
       "      <td>1</td>\n",
       "      <td>0</td>\n",
       "      <td>0</td>\n",
       "      <td>1</td>\n",
       "      <td>0</td>\n",
       "    </tr>\n",
       "    <tr>\n",
       "      <th>5</th>\n",
       "      <td>Alb-000006</td>\n",
       "      <td>2010-01-26</td>\n",
       "      <td>0.892157</td>\n",
       "      <td>0.0</td>\n",
       "      <td>0.0</td>\n",
       "      <td>0.487732</td>\n",
       "      <td>0.689881</td>\n",
       "      <td>0</td>\n",
       "      <td>0</td>\n",
       "      <td>0</td>\n",
       "      <td>0</td>\n",
       "      <td>1</td>\n",
       "      <td>1</td>\n",
       "      <td>0</td>\n",
       "      <td>0</td>\n",
       "      <td>0</td>\n",
       "      <td>1</td>\n",
       "    </tr>\n",
       "    <tr>\n",
       "      <th>6</th>\n",
       "      <td>Alb-000007</td>\n",
       "      <td>2010-01-27</td>\n",
       "      <td>0.509804</td>\n",
       "      <td>0.0</td>\n",
       "      <td>0.0</td>\n",
       "      <td>0.485697</td>\n",
       "      <td>0.693276</td>\n",
       "      <td>0</td>\n",
       "      <td>0</td>\n",
       "      <td>1</td>\n",
       "      <td>0</td>\n",
       "      <td>0</td>\n",
       "      <td>0</td>\n",
       "      <td>1</td>\n",
       "      <td>1</td>\n",
       "      <td>0</td>\n",
       "      <td>0</td>\n",
       "    </tr>\n",
       "    <tr>\n",
       "      <th>7</th>\n",
       "      <td>Alb-000008</td>\n",
       "      <td>2010-01-27</td>\n",
       "      <td>0.509804</td>\n",
       "      <td>0.0</td>\n",
       "      <td>0.0</td>\n",
       "      <td>0.485697</td>\n",
       "      <td>0.693276</td>\n",
       "      <td>0</td>\n",
       "      <td>0</td>\n",
       "      <td>1</td>\n",
       "      <td>0</td>\n",
       "      <td>0</td>\n",
       "      <td>1</td>\n",
       "      <td>0</td>\n",
       "      <td>1</td>\n",
       "      <td>0</td>\n",
       "      <td>0</td>\n",
       "    </tr>\n",
       "    <tr>\n",
       "      <th>8</th>\n",
       "      <td>Alb-000009</td>\n",
       "      <td>2010-01-30</td>\n",
       "      <td>0.549020</td>\n",
       "      <td>0.0</td>\n",
       "      <td>0.0</td>\n",
       "      <td>0.483813</td>\n",
       "      <td>0.690185</td>\n",
       "      <td>0</td>\n",
       "      <td>0</td>\n",
       "      <td>0</td>\n",
       "      <td>0</td>\n",
       "      <td>1</td>\n",
       "      <td>0</td>\n",
       "      <td>1</td>\n",
       "      <td>0</td>\n",
       "      <td>0</td>\n",
       "      <td>1</td>\n",
       "    </tr>\n",
       "    <tr>\n",
       "      <th>9</th>\n",
       "      <td>Alb-000010</td>\n",
       "      <td>2010-02-10</td>\n",
       "      <td>0.421569</td>\n",
       "      <td>0.0</td>\n",
       "      <td>0.0</td>\n",
       "      <td>0.483324</td>\n",
       "      <td>0.690551</td>\n",
       "      <td>0</td>\n",
       "      <td>0</td>\n",
       "      <td>1</td>\n",
       "      <td>0</td>\n",
       "      <td>0</td>\n",
       "      <td>0</td>\n",
       "      <td>1</td>\n",
       "      <td>0</td>\n",
       "      <td>0</td>\n",
       "      <td>1</td>\n",
       "    </tr>\n",
       "  </tbody>\n",
       "</table>\n",
       "</div>"
      ],
      "text/plain": [
       "          uid reported_date  victim_age  city  state       lat       lon  \\\n",
       "0  Alb-000001    2010-05-04    0.764706   0.0    0.0  0.484869  0.689895   \n",
       "1  Alb-000002    2010-02-16    0.166667   0.0    0.0  0.482853  0.693328   \n",
       "2  Alb-000003    2010-06-01    0.147059   0.0    0.0  0.484368  0.692944   \n",
       "3  Alb-000004    2010-01-01    0.313725   0.0    0.0  0.483974  0.690236   \n",
       "4  Alb-000005    2010-01-02    0.705882   0.0    0.0  0.486658  0.690719   \n",
       "5  Alb-000006    2010-01-26    0.892157   0.0    0.0  0.487732  0.689881   \n",
       "6  Alb-000007    2010-01-27    0.509804   0.0    0.0  0.485697  0.693276   \n",
       "7  Alb-000008    2010-01-27    0.509804   0.0    0.0  0.485697  0.693276   \n",
       "8  Alb-000009    2010-01-30    0.549020   0.0    0.0  0.483813  0.690185   \n",
       "9  Alb-000010    2010-02-10    0.421569   0.0    0.0  0.483324  0.690551   \n",
       "\n",
       "   Asian  Black  Hispanic  Other  White  Female  Male  Closed by arrest  \\\n",
       "0      0      0         1      0      0       0     1                 0   \n",
       "1      0      0         1      0      0       0     1                 1   \n",
       "2      0      0         0      0      1       1     0                 0   \n",
       "3      0      0         1      0      0       0     1                 1   \n",
       "4      0      0         0      0      1       1     0                 0   \n",
       "5      0      0         0      0      1       1     0                 0   \n",
       "6      0      0         1      0      0       0     1                 1   \n",
       "7      0      0         1      0      0       1     0                 1   \n",
       "8      0      0         0      0      1       0     1                 0   \n",
       "9      0      0         1      0      0       0     1                 0   \n",
       "\n",
       "   Closed without arrest  Open/No arrest  \n",
       "0                      1               0  \n",
       "1                      0               0  \n",
       "2                      1               0  \n",
       "3                      0               0  \n",
       "4                      1               0  \n",
       "5                      0               1  \n",
       "6                      0               0  \n",
       "7                      0               0  \n",
       "8                      0               1  \n",
       "9                      0               1  "
      ]
     },
     "execution_count": 70,
     "metadata": {},
     "output_type": "execute_result"
    }
   ],
   "source": [
    "df_murder.head(10)"
   ]
  },
  {
   "cell_type": "code",
   "execution_count": 71,
   "metadata": {
    "slideshow": {
     "slide_type": "slide"
    }
   },
   "outputs": [
    {
     "name": "stdout",
     "output_type": "stream",
     "text": [
      "<class 'pandas.core.frame.DataFrame'>\n",
      "Int64Index: 47859 entries, 0 to 52178\n",
      "Data columns (total 17 columns):\n",
      "uid                      47859 non-null object\n",
      "reported_date            47859 non-null datetime64[ns]\n",
      "victim_age               47859 non-null float64\n",
      "city                     47859 non-null float64\n",
      "state                    47859 non-null float64\n",
      "lat                      47859 non-null float64\n",
      "lon                      47859 non-null float64\n",
      "Asian                    47859 non-null uint8\n",
      "Black                    47859 non-null uint8\n",
      "Hispanic                 47859 non-null uint8\n",
      "Other                    47859 non-null uint8\n",
      "White                    47859 non-null uint8\n",
      "Female                   47859 non-null uint8\n",
      "Male                     47859 non-null uint8\n",
      "Closed by arrest         47859 non-null uint8\n",
      "Closed without arrest    47859 non-null uint8\n",
      "Open/No arrest           47859 non-null uint8\n",
      "dtypes: datetime64[ns](1), float64(5), object(1), uint8(10)\n",
      "memory usage: 7.3 MB\n"
     ]
    }
   ],
   "source": [
    "df_murder.info(memory_usage='deep')"
   ]
  },
  {
   "cell_type": "markdown",
   "metadata": {
    "slideshow": {
     "slide_type": "slide"
    }
   },
   "source": [
    "# Conclusion\n",
    "- This was surprisingly difficult without domain knowledge. \n",
    "- A lot of assumptions had to be made, where I did not know how they would fully impact analysis.\n",
    "- Visual inspection can be very beneficial (map exercise)"
   ]
  }
 ],
 "metadata": {
  "kernelspec": {
   "display_name": "Python 3",
   "language": "python",
   "name": "python3"
  },
  "language_info": {
   "codemirror_mode": {
    "name": "ipython",
    "version": 3
   },
   "file_extension": ".py",
   "mimetype": "text/x-python",
   "name": "python",
   "nbconvert_exporter": "python",
   "pygments_lexer": "ipython3",
   "version": "3.7.3"
  }
 },
 "nbformat": 4,
 "nbformat_minor": 2
}
